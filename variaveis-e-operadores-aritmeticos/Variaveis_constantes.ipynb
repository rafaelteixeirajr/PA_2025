{
  "nbformat": 4,
  "nbformat_minor": 0,
  "metadata": {
    "colab": {
      "provenance": [],
      "authorship_tag": "ABX9TyMzpUu1q/TX2CSagc9xB5OV",
      "include_colab_link": true
    },
    "kernelspec": {
      "name": "python3",
      "display_name": "Python 3"
    },
    "language_info": {
      "name": "python"
    }
  },
  "cells": [
    {
      "cell_type": "markdown",
      "metadata": {
        "id": "view-in-github",
        "colab_type": "text"
      },
      "source": [
        "<a href=\"https://colab.research.google.com/github/rafaelteixeirajr/PA_2025/blob/main/variaveis-e-operadores-aritmeticos/Variaveis_constantes.ipynb\" target=\"_parent\"><img src=\"https://colab.research.google.com/assets/colab-badge.svg\" alt=\"Open In Colab\"/></a>"
      ]
    },
    {
      "cell_type": "code",
      "execution_count": null,
      "metadata": {
        "id": "3tYOsBFmf8_U"
      },
      "outputs": [],
      "source": [
        "#variaveis e constantes\n",
        "idade = 15\n",
        "altura = 1.74\n",
        "nome = 'little Junior'\n",
        "vai = True\n",
        "\n",
        "\n"
      ]
    },
    {
      "cell_type": "code",
      "source": [
        "nomes = ['rafael', 'lucas' , 'pinheiro']\n",
        "nomes2 = ('rafael', 'lucas' , 'pinheiro')\n"
      ],
      "metadata": {
        "id": "AiZpGgyTi48t"
      },
      "execution_count": null,
      "outputs": []
    },
    {
      "cell_type": "code",
      "source": [
        "print (nome)\n",
        "print (nomes)\n",
        "print (nomes2)\n",
        "tudo = {nome: 'little junior', idade: 15, altura:1.74}\n",
        "print (type(tudo))"
      ],
      "metadata": {
        "colab": {
          "base_uri": "https://localhost:8080/"
        },
        "id": "reogDKnWjMFP",
        "outputId": "07e1011c-a1e4-45ef-c241-92bf78e8027a"
      },
      "execution_count": null,
      "outputs": [
        {
          "output_type": "stream",
          "name": "stdout",
          "text": [
            "little Junior\n",
            "['rafael', 'lucas', 'pinheiro']\n",
            "('rafael', 'lucas', 'pinheiro')\n",
            "<class 'dict'>\n"
          ]
        }
      ]
    },
    {
      "cell_type": "code",
      "source": [
        "\n",
        "print (type(idade))\n",
        "print (type(altura))\n",
        "print (type(vai))\n",
        "print (type(nome))\n",
        "print (type(nomes))\n",
        "print (type(nomes2))\n"
      ],
      "metadata": {
        "colab": {
          "base_uri": "https://localhost:8080/"
        },
        "id": "4jsMU8xEkNX1",
        "outputId": "ba38535e-ed6a-404b-c029-d2b3357a0e94"
      },
      "execution_count": null,
      "outputs": [
        {
          "output_type": "stream",
          "name": "stdout",
          "text": [
            "<class 'int'>\n",
            "<class 'float'>\n",
            "<class 'bool'>\n",
            "<class 'str'>\n",
            "<class 'list'>\n",
            "<class 'tuple'>\n"
          ]
        }
      ]
    },
    {
      "cell_type": "code",
      "source": [
        "print ('o vulgo dele é:', nome, ', ele tem', idade,'anos  de idade e tem' , altura, 'metros de altura')"
      ],
      "metadata": {
        "colab": {
          "base_uri": "https://localhost:8080/"
        },
        "id": "3PajGgJEpPeu",
        "outputId": "65f48a74-3861-4faa-af9c-1eff9322882d"
      },
      "execution_count": null,
      "outputs": [
        {
          "output_type": "stream",
          "name": "stdout",
          "text": [
            "o vulgo dele é: little Junior ,ele tem 15 anos  de idade e tem 1.74 metros de altura\n"
          ]
        }
      ]
    },
    {
      "cell_type": "code",
      "source": [
        "#área do circulo\n",
        "PI = 3.14159\n",
        "raio =  float(input('informe o raio do circulo '))\n",
        "área_circulo = PI * (raio ** 2)\n",
        "print (f\"A área do circulo é: {área_circulo}\")"
      ],
      "metadata": {
        "colab": {
          "base_uri": "https://localhost:8080/"
        },
        "id": "k7ieb1eKvaJQ",
        "outputId": "b1656e1f-a1bb-479a-cb67-a464858eefab"
      },
      "execution_count": null,
      "outputs": [
        {
          "output_type": "stream",
          "name": "stdout",
          "text": [
            "informe o raio do circulo 5\n",
            "A área do circulo é: 78.53975\n"
          ]
        }
      ]
    },
    {
      "cell_type": "markdown",
      "source": [
        "# Area do quadrado"
      ],
      "metadata": {
        "id": "_QbrInl-0VS3"
      }
    },
    {
      "cell_type": "markdown",
      "source": [],
      "metadata": {
        "id": "66CfjbpOoyAu"
      }
    },
    {
      "cell_type": "code",
      "source": [
        "lado = float(input('digite o valor do lado do quadrado '))\n",
        "area_quadrado = lado * lado\n",
        "print (f\"A área do quadrado é: {area_quadrado}\")\n"
      ],
      "metadata": {
        "colab": {
          "base_uri": "https://localhost:8080/"
        },
        "id": "s-Dg5uEv0Xwf",
        "outputId": "ad701541-b7f5-4b5f-a5c8-d07229bde4c5"
      },
      "execution_count": null,
      "outputs": [
        {
          "output_type": "stream",
          "name": "stdout",
          "text": [
            "digite o valor do lado do quadrado 54\n",
            "A área do quadrado é: 2916.0\n"
          ]
        }
      ]
    },
    {
      "cell_type": "markdown",
      "source": [
        "#**EXERCICIOS**\n",
        "## 1 area do rentangulo"
      ],
      "metadata": {
        "id": "sW7cHG3go1_j"
      }
    },
    {
      "cell_type": "code",
      "source": [
        "base = float(input('qual o valor da base? '))\n",
        "altura = float(input('qual o valor da altura? '))\n",
        "area_retangulo = base * altura\n",
        "print (f'a area do retangulo é: {area_retangulo}')"
      ],
      "metadata": {
        "colab": {
          "base_uri": "https://localhost:8080/"
        },
        "id": "pbJoHOmso0Kc",
        "outputId": "e963977f-cec2-41a4-c5be-64ebea1a8a22"
      },
      "execution_count": 7,
      "outputs": [
        {
          "output_type": "stream",
          "name": "stdout",
          "text": [
            "qual o valor da base? 5\n",
            "qual o valor da altura? 3\n",
            "a area do retangulo é: 15.0\n"
          ]
        }
      ]
    },
    {
      "cell_type": "markdown",
      "source": [
        "## 2 perimetro do circulo"
      ],
      "metadata": {
        "id": "rzyq4FPXrwSq"
      }
    },
    {
      "cell_type": "code",
      "source": [
        "# P = 2 × π × r\n",
        "PI = 3.14159\n",
        "raio = float(input('qual é o valor do raio? '))\n",
        "perimetrocircu = 2 * PI * raio\n",
        "print (f'o periemtro do circulo é: {perimetrocircu:.2f}')"
      ],
      "metadata": {
        "colab": {
          "base_uri": "https://localhost:8080/"
        },
        "id": "yq6W_SXvr9bc",
        "outputId": "ad88766e-2d78-489b-8775-9b8008bba422"
      },
      "execution_count": 11,
      "outputs": [
        {
          "output_type": "stream",
          "name": "stdout",
          "text": [
            "qual é o valor do raio? 7\n",
            "o periemtro do circulo é: 43.98\n"
          ]
        }
      ]
    },
    {
      "cell_type": "markdown",
      "source": [
        "## 3 conversão de temperatura"
      ],
      "metadata": {
        "id": "R1g6QskBtyCY"
      }
    },
    {
      "cell_type": "code",
      "source": [
        " #C = (F - 32) × 5/9\n",
        "fahrenheit = float(input('informe a temperatura atual em fahrenheit '))\n",
        "celsius = (fahrenheit - 32) * 5/9\n",
        "print (f\"a temperatura em celsius é: {celsius:.2f} \")"
      ],
      "metadata": {
        "colab": {
          "base_uri": "https://localhost:8080/"
        },
        "id": "P69ipXeXuFGr",
        "outputId": "7b142e74-da35-4a41-d308-8ba0ba5643d7"
      },
      "execution_count": 21,
      "outputs": [
        {
          "output_type": "stream",
          "name": "stdout",
          "text": [
            "informe a temperatura atual em fahrenheit 89\n",
            "a temperatura em celsius é: 31.67 \n"
          ]
        }
      ]
    },
    {
      "cell_type": "markdown",
      "source": [
        "## 4 IMC"
      ],
      "metadata": {
        "id": "7NsOLJ4Vwl4g"
      }
    },
    {
      "cell_type": "code",
      "source": [
        "#IMC = peso / altura²\n",
        "peso = float(input('informe o seu peso '))\n",
        "altura = float(input('informe a sua altura '))\n",
        "IMC = peso/altura**2\n",
        "print (f'o seu indice de massa corporal é: {IMC:.2f}')"
      ],
      "metadata": {
        "colab": {
          "base_uri": "https://localhost:8080/"
        },
        "id": "PzhJo7Aow5uC",
        "outputId": "58cb3084-7b6d-47d2-cb44-053fc1537efc"
      },
      "execution_count": 24,
      "outputs": [
        {
          "output_type": "stream",
          "name": "stdout",
          "text": [
            "informe o seu peso 95\n",
            "informe a sua altura 1.80\n",
            "o seu indice de massa corporal é: 29.32\n"
          ]
        }
      ]
    }
  ]
}