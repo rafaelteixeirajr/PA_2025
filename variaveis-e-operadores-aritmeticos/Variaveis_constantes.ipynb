{
  "nbformat": 4,
  "nbformat_minor": 0,
  "metadata": {
    "colab": {
      "provenance": [],
      "authorship_tag": "ABX9TyN8vM5SMJDitVd4oOsE9rz5",
      "include_colab_link": true
    },
    "kernelspec": {
      "name": "python3",
      "display_name": "Python 3"
    },
    "language_info": {
      "name": "python"
    }
  },
  "cells": [
    {
      "cell_type": "markdown",
      "metadata": {
        "id": "view-in-github",
        "colab_type": "text"
      },
      "source": [
        "<a href=\"https://colab.research.google.com/github/rafaelteixeirajr/PA_2025/blob/main/variaveis-e-operadores-aritmeticos/Variaveis_constantes.ipynb\" target=\"_parent\"><img src=\"https://colab.research.google.com/assets/colab-badge.svg\" alt=\"Open In Colab\"/></a>"
      ]
    },
    {
      "cell_type": "code",
      "execution_count": null,
      "metadata": {
        "id": "3tYOsBFmf8_U"
      },
      "outputs": [],
      "source": [
        "#variaveis e constantes\n",
        "idade = 15\n",
        "altura = 1.74\n",
        "nome = 'little Junior'\n",
        "vai = True\n",
        "\n",
        "\n"
      ]
    },
    {
      "cell_type": "code",
      "source": [
        "nomes = ['rafael', 'lucas' , 'pinheiro']\n",
        "nomes2 = ('rafael', 'lucas' , 'pinheiro')\n"
      ],
      "metadata": {
        "id": "AiZpGgyTi48t"
      },
      "execution_count": null,
      "outputs": []
    },
    {
      "cell_type": "code",
      "source": [
        "print (nome)\n",
        "print (nomes)\n",
        "print (nomes2)\n",
        "tudo = {nome: 'little junior', idade: 15, altura:1.74}\n",
        "print (type(tudo))"
      ],
      "metadata": {
        "colab": {
          "base_uri": "https://localhost:8080/"
        },
        "id": "reogDKnWjMFP",
        "outputId": "07e1011c-a1e4-45ef-c241-92bf78e8027a"
      },
      "execution_count": null,
      "outputs": [
        {
          "output_type": "stream",
          "name": "stdout",
          "text": [
            "little Junior\n",
            "['rafael', 'lucas', 'pinheiro']\n",
            "('rafael', 'lucas', 'pinheiro')\n",
            "<class 'dict'>\n"
          ]
        }
      ]
    },
    {
      "cell_type": "code",
      "source": [
        "\n",
        "print (type(idade))\n",
        "print (type(altura))\n",
        "print (type(vai))\n",
        "print (type(nome))\n",
        "print (type(nomes))\n",
        "print (type(nomes2))\n"
      ],
      "metadata": {
        "colab": {
          "base_uri": "https://localhost:8080/"
        },
        "id": "4jsMU8xEkNX1",
        "outputId": "ba38535e-ed6a-404b-c029-d2b3357a0e94"
      },
      "execution_count": null,
      "outputs": [
        {
          "output_type": "stream",
          "name": "stdout",
          "text": [
            "<class 'int'>\n",
            "<class 'float'>\n",
            "<class 'bool'>\n",
            "<class 'str'>\n",
            "<class 'list'>\n",
            "<class 'tuple'>\n"
          ]
        }
      ]
    },
    {
      "cell_type": "code",
      "source": [
        "print ('o vulgo dele é:', nome, ', ele tem', idade,'anos  de idade e tem' , altura, 'metros de altura')"
      ],
      "metadata": {
        "colab": {
          "base_uri": "https://localhost:8080/"
        },
        "id": "3PajGgJEpPeu",
        "outputId": "65f48a74-3861-4faa-af9c-1eff9322882d"
      },
      "execution_count": null,
      "outputs": [
        {
          "output_type": "stream",
          "name": "stdout",
          "text": [
            "o vulgo dele é: little Junior ,ele tem 15 anos  de idade e tem 1.74 metros de altura\n"
          ]
        }
      ]
    },
    {
      "cell_type": "code",
      "source": [
        "#área do circulo\n",
        "PI = 3.14159\n",
        "raio =  float(input('informe o raio do circulo '))\n",
        "área_circulo = PI * (raio ** 2)\n",
        "print (f\"A área do circulo é: {área_circulo}\")"
      ],
      "metadata": {
        "colab": {
          "base_uri": "https://localhost:8080/"
        },
        "id": "k7ieb1eKvaJQ",
        "outputId": "b1656e1f-a1bb-479a-cb67-a464858eefab"
      },
      "execution_count": null,
      "outputs": [
        {
          "output_type": "stream",
          "name": "stdout",
          "text": [
            "informe o raio do circulo 5\n",
            "A área do circulo é: 78.53975\n"
          ]
        }
      ]
    },
    {
      "cell_type": "markdown",
      "source": [
        "# Area do quadrado"
      ],
      "metadata": {
        "id": "_QbrInl-0VS3"
      }
    },
    {
      "cell_type": "code",
      "source": [
        "lado = float(input('digite o valor do lado do quadrado '))\n",
        "area_quadrado = lado * lado\n",
        "print (f\"A área do quadrado é: {area_quadrado}\")\n"
      ],
      "metadata": {
        "colab": {
          "base_uri": "https://localhost:8080/"
        },
        "id": "s-Dg5uEv0Xwf",
        "outputId": "ad701541-b7f5-4b5f-a5c8-d07229bde4c5"
      },
      "execution_count": null,
      "outputs": [
        {
          "output_type": "stream",
          "name": "stdout",
          "text": [
            "digite o valor do lado do quadrado 54\n",
            "A área do quadrado é: 2916.0\n"
          ]
        }
      ]
    }
  ]
}