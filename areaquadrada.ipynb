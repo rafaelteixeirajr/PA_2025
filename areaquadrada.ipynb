{
  "nbformat": 4,
  "nbformat_minor": 0,
  "metadata": {
    "colab": {
      "provenance": [],
      "authorship_tag": "ABX9TyNXlxG0fqmWDVsylQ79p8MK",
      "include_colab_link": true
    },
    "kernelspec": {
      "name": "python3",
      "display_name": "Python 3"
    },
    "language_info": {
      "name": "python"
    }
  },
  "cells": [
    {
      "cell_type": "markdown",
      "metadata": {
        "id": "view-in-github",
        "colab_type": "text"
      },
      "source": [
        "<a href=\"https://colab.research.google.com/github/rafaelteixeirajr/PA_2025/blob/main/areaquadrada.ipynb\" target=\"_parent\"><img src=\"https://colab.research.google.com/assets/colab-badge.svg\" alt=\"Open In Colab\"/></a>"
      ]
    },
    {
      "cell_type": "markdown",
      "source": [
        "#Meu primeiro codigo"
      ],
      "metadata": {
        "id": "8RoaTmS-Xijh"
      }
    },
    {
      "cell_type": "code",
      "execution_count": null,
      "metadata": {
        "id": "PsGPoBeeEWsq"
      },
      "outputs": [],
      "source": [
        " aula = 'hello world'"
      ]
    },
    {
      "cell_type": "code",
      "source": [
        "print(aula)"
      ],
      "metadata": {
        "colab": {
          "base_uri": "https://localhost:8080/"
        },
        "id": "tRl07lvlV5Nr",
        "outputId": "a450df77-f454-4bc1-8bcb-26cc707ba945"
      },
      "execution_count": null,
      "outputs": [
        {
          "output_type": "stream",
          "name": "stdout",
          "text": [
            "hello world\n"
          ]
        }
      ]
    },
    {
      "cell_type": "code",
      "source": [
        "#entrada\n",
        "lado = 4"
      ],
      "metadata": {
        "id": "JYz_fxRXWXjW"
      },
      "execution_count": null,
      "outputs": []
    },
    {
      "cell_type": "code",
      "source": [
        "area = lado * lado\n"
      ],
      "metadata": {
        "id": "Hp3k9TZ_YGw8"
      },
      "execution_count": null,
      "outputs": []
    }
  ]
}