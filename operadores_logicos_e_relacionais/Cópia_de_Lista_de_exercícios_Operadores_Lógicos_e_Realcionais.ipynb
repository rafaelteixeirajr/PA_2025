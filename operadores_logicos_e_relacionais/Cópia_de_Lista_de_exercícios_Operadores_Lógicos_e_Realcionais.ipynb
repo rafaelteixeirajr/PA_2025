{
  "nbformat": 4,
  "nbformat_minor": 0,
  "metadata": {
    "colab": {
      "provenance": [],
      "include_colab_link": true
    },
    "kernelspec": {
      "name": "python3",
      "display_name": "Python 3"
    },
    "language_info": {
      "name": "python"
    }
  },
  "cells": [
    {
      "cell_type": "markdown",
      "metadata": {
        "id": "view-in-github",
        "colab_type": "text"
      },
      "source": [
        "<a href=\"https://colab.research.google.com/github/rafaelteixeirajr/PA_2025/blob/main/operadores_logicos_e_relacionais/C%C3%B3pia_de_Lista_de_exerc%C3%ADcios_Operadores_L%C3%B3gicos_e_Realcionais.ipynb\" target=\"_parent\"><img src=\"https://colab.research.google.com/assets/colab-badge.svg\" alt=\"Open In Colab\"/></a>"
      ]
    },
    {
      "cell_type": "markdown",
      "source": [
        "# Antes de Qualquer coisa Salve uma cópia no seu drive para não perder os códigos"
      ],
      "metadata": {
        "id": "u7J214bEGDpV"
      }
    },
    {
      "cell_type": "markdown",
      "source": [
        "## vá em arquivos: Salvar uma cópia no Drive"
      ],
      "metadata": {
        "id": "zT3Nb6BfGL56"
      }
    },
    {
      "cell_type": "markdown",
      "source": [
        "#Lista de exercícios - Operadores Lógicos e Relacionais\n",
        "\n"
      ],
      "metadata": {
        "id": "IfPXF-sV3xLF"
      }
    },
    {
      "cell_type": "code",
      "source": [],
      "metadata": {
        "id": "axzVONtP2Abl"
      },
      "execution_count": null,
      "outputs": []
    },
    {
      "cell_type": "markdown",
      "source": [
        "Em Python, usamos operadores relacionais e lógicos para fazer comparações e tomar decisões com base em condições. Eles são fundamentais na construção de estruturas de controle como if, while e outras."
      ],
      "metadata": {
        "id": "eIwxJUSq3I9d"
      }
    },
    {
      "cell_type": "markdown",
      "source": [
        "✅ Operadores Relacionais\n",
        "\n",
        "Os operadores relacionais comparam dois valores e retornam um resultado booleano (ou seja, True ou False).\n",
        "\n",
        "**Veja os principais:**\n",
        "\n",
        "\"==\" → verifica se dois valores são iguais\n",
        "\n",
        "\"!=\" → verifica se dois valores são diferentes\n",
        "\n",
        "\">\" → verifica se o valor da esquerda é maior\n",
        "\n",
        "\"<\" → verifica se o valor da esquerda é menor\n",
        "\n",
        "\">=\" → verifica se é maior ou igual\n",
        "\n",
        "\"<=\" → verifica se é menor ou igual\n",
        "\n",
        "✅ Operadores Lógicos\n",
        "\n",
        "Os operadores lógicos são usados para combinar condições. Eles também retornam valores booleanos e são muito úteis quando precisamos verificar mais de uma condição ao mesmo tempo.\n",
        "\n",
        "and (E): Retorna True somente se todas as condições forem verdadeiras\n",
        "\n",
        "or (OU): Retorna True se pelo menos uma das condições for verdadeira\n",
        "\n",
        "not (NÃO): Inverte o valor lógico de uma expressão"
      ],
      "metadata": {
        "id": "wZu_EmmK318x"
      }
    },
    {
      "cell_type": "markdown",
      "source": [
        "## Veja os exemplos abaixo - Execute os códigos um a um para entender, troque os valores para ficar mais fácil o entendimento"
      ],
      "metadata": {
        "id": "8vX8RQvs4dsQ"
      }
    },
    {
      "cell_type": "code",
      "source": [
        "# Operadores Relacionais\n",
        "#  1. Igualdade (==) e Diferença (!=)\n",
        "a = 10\n",
        "b = 5\n",
        "\n",
        "print(a == b)\n",
        "print(a != b)"
      ],
      "metadata": {
        "id": "xNVmeRUMU3OU"
      },
      "execution_count": null,
      "outputs": []
    },
    {
      "cell_type": "markdown",
      "source": [
        "## Aplicação em senhas"
      ],
      "metadata": {
        "id": "5CIZb32GBgh3"
      }
    },
    {
      "cell_type": "code",
      "source": [
        "#entrada\n",
        "senhacerta=\"gostopython\"\n",
        "senha = input(\"Digite a senha: \")\n",
        "#processamento\n",
        "logado = senhacerta == senha\n",
        "#saída\n",
        "print(\"Está logado? \", logado)\n"
      ],
      "metadata": {
        "id": "ihCaXz_WBRNX"
      },
      "execution_count": null,
      "outputs": []
    },
    {
      "cell_type": "code",
      "source": [
        "# 2. Comparações (> , < , >= , <=)\n",
        "x = 8\n",
        "y = 12\n",
        "\n",
        "print(\"X é maior que Y?\", x > y)\n",
        "print(\"X é menor que Y?\",x < y)\n",
        "print(\"X é maior ou igual e Y?\",x >= 8)\n",
        "print(\"X é menor ou igual a Y?\",y <= 10)"
      ],
      "metadata": {
        "id": "fLAmvGGTVhPm"
      },
      "execution_count": null,
      "outputs": []
    },
    {
      "cell_type": "markdown",
      "source": [
        "## aplicação do exemplo anterior mais operador lógico"
      ],
      "metadata": {
        "id": "Vy3Q7wF8Cl40"
      }
    },
    {
      "cell_type": "code",
      "source": [
        "# 3. Operador \"AND\" (E) - Ambos precisam ser verdadeiros\n",
        "idade = 11\n",
        "tem_autorizacao = True\n",
        "\n",
        "podentrar = (idade >= 12 and tem_autorizacao)\n",
        "\n",
        "print(\"Pode entrar no evento?\", podentrar)\n"
      ],
      "metadata": {
        "id": "9dj-xWQ1WOe4"
      },
      "execution_count": null,
      "outputs": []
    },
    {
      "cell_type": "markdown",
      "source": [
        "## Com entrada de dados pelo Teclado"
      ],
      "metadata": {
        "id": "MNGl1vEvCSPN"
      }
    },
    {
      "cell_type": "code",
      "source": [
        "idade = int(input(\"Qual sua idade?\"))\n",
        "autorizacao = input(\"Trouxe autorização do seus responsáveis?\") #resposta tem que ser True ou False\n",
        "\n",
        "podentrar = (idade >= 12 and tem_autorizacao)\n",
        "\n",
        "print(\"Pode entrar no evento?\", podentrar)\n"
      ],
      "metadata": {
        "id": "nSqIDj2u-Rpw"
      },
      "execution_count": null,
      "outputs": []
    },
    {
      "cell_type": "markdown",
      "source": [
        "## outra forma de fazer o mesmo exercício, usando outra entrada de dados\n"
      ],
      "metadata": {
        "id": "uNuVUBkrCXpK"
      }
    },
    {
      "cell_type": "code",
      "source": [
        "idade = int(input(\"Qual sua idade? \"))\n",
        "autorizacao = int(input(\"Trouxe autorização do seus responsáveis?\\nDigite 1 para sim \\nDigite 2 para não: \"))\n",
        "\n",
        "verificacao = autorizacao==1\n",
        "\n",
        "podentrar = (idade >= 12 and verificacao)\n",
        "\n",
        "print(\"Pode entrar no evento?\", podentrar)"
      ],
      "metadata": {
        "id": "711Kvx27-4fm"
      },
      "execution_count": null,
      "outputs": []
    },
    {
      "cell_type": "code",
      "source": [
        "# 4. Operador \"OR\" (OU) - Basta um ser verdadeiro\n",
        "tem_ingresso = False\n",
        "nome_na_lista = False\n",
        "\n",
        "podeentrar = tem_ingresso or nome_na_lista\n",
        "\n",
        "print(\"Pode entrar na festa? \", podeentrar )"
      ],
      "metadata": {
        "id": "pR0TrqcMWx1f"
      },
      "execution_count": null,
      "outputs": []
    },
    {
      "cell_type": "code",
      "source": [
        "# 5. Operador \"NOT\" (NÃO) - Inverte o valor\n",
        "chovendo = True\n",
        "\n",
        "print(not chovendo)"
      ],
      "metadata": {
        "id": "g5C5xYyMW_rZ"
      },
      "execution_count": null,
      "outputs": []
    },
    {
      "cell_type": "code",
      "source": [
        "# 6. Misturando Relacionais + Lógicos\n",
        "nota = 7\n",
        "presenca = 65\n",
        "\n",
        "print(nota >= 6 and presenca >= 75)\n"
      ],
      "metadata": {
        "id": "MCpdGwU1XETi"
      },
      "execution_count": null,
      "outputs": []
    },
    {
      "cell_type": "markdown",
      "source": [
        "##Exemplo: Soma de 3 valores com desconto automático (sem if)\n",
        "\n",
        "O usuário terá desconto se a soma dos valores for maior que R$ 1000,00"
      ],
      "metadata": {
        "id": "t0n3Ajr-Ebfw"
      }
    },
    {
      "cell_type": "code",
      "source": [
        "# 7. com cálculos no meio.\n",
        "\n",
        "# Solicita três valores ao usuário\n",
        "v1 = float(input(\"Digite o valor do primeiro produto: \"))\n",
        "v2 = float(input(\"Digite o valor do segundo produto:  \"))\n",
        "v3 = float(input(\"Digite o valor do terceiro produto:  \"))\n",
        "\n",
        "# Soma total\n",
        "total = v1 + v2 + v3\n",
        "\n",
        "desconto =(total >= 1000)\n",
        "\n",
        "print(\"Vai ter desconto? \", desconto)"
      ],
      "metadata": {
        "id": "GpzpYjATEH_1"
      },
      "execution_count": null,
      "outputs": []
    },
    {
      "cell_type": "markdown",
      "source": [
        "##Seguindo os exemplos anteriores.  Faça os outros em seguida:\n",
        "\n",
        "# Importante: NÃO USE O CONDICIONAL IF. É obrigatório o uso apenas de operadores lógicos, relacioais e variáveis."
      ],
      "metadata": {
        "id": "MIudH-lZ4g35"
      }
    },
    {
      "cell_type": "markdown",
      "source": [
        "1- Solicite ao usuário a idade; Pergunte se está com responsável;\n",
        "\n",
        "Regra: A entrada para o cinema é permitida se a pessoa tiver 14 anos ou mais ou estiver acompanhada de um responsável.\n",
        "\n",
        "Na Saída informa se é True ou False, a possivel entrada no Cinema.\n",
        "\n",
        "Exemplo: Pode entrar no Cinema?....\n",
        "\n",
        "A Resposta esperada sera True ou False"
      ],
      "metadata": {
        "id": "A847ArYB4zIG"
      }
    },
    {
      "cell_type": "code",
      "source": [
        " idades = int(input('quantos anos você tem?'))\n",
        " responsavel = 1\n",
        " resposta =  input('você está com o responsavel?\\n sim 1\\n não 2')\n",
        "entrada1 = (resposta == responsavel)\n",
        "entrada2 = (idades >= 14)\n",
        "passagem = entrada1 or entrada2\n",
        "print (passagem)"
      ],
      "metadata": {
        "id": "1lWbnzMH92kS"
      },
      "execution_count": null,
      "outputs": []
    },
    {
      "cell_type": "markdown",
      "source": [
        "2- Um jogador só recebe promoção se: tiver mais de 1000 pontos OU for assinante premium.\n",
        "* Solicite os pontos na primeira entrada;\n",
        "* Solicite que tipo de assinante ele é;\n",
        "* Na saída informa se é Verdadeiro ou Falso a promoção;"
      ],
      "metadata": {
        "id": "1Z7RsUTF44M5"
      }
    },
    {
      "cell_type": "code",
      "source": [
        "pontos =  int(input('quantos pontos você conseguiu na ultima partida?'))\n",
        "assi = int(input('Qual seu tipo de assinatura\\n 1  para assinatura PRO\\n 2 para assinatura PREMIUM'))\n",
        "v1 = (pontos == 1000)\n",
        "v2 = assi >= 2\n",
        "promoção = (v1 or v2)\n",
        "print (promoção)"
      ],
      "metadata": {
        "id": "QRHx7-KtDqVZ"
      },
      "execution_count": null,
      "outputs": []
    },
    {
      "cell_type": "markdown",
      "source": [
        "3- Solicite um valor ao usuário.\n",
        "* Verifique se o número que o usuário digitou está entre 10 e 20\n",
        "* Na saída infome se é verdadeiro ou falso. }Exemplo saída. \"O número está entre 10 e 20\". A resposta será True ou False."
      ],
      "metadata": {
        "id": "tAFfmQ8u459E"
      }
    },
    {
      "cell_type": "code",
      "source": [
        " n = int(input('me fale um numero entre 0 á 30'))\n",
        " v4 = ( n >= 10)\n",
        "v5 =( n <= 20)\n",
        "v6 = (v5 == v4)\n",
        "print (f'o seu numero está {v6}')"
      ],
      "metadata": {
        "id": "6WjvOAV_DqsF"
      },
      "execution_count": null,
      "outputs": []
    },
    {
      "cell_type": "markdown",
      "source": [
        "4- Solicite a idade da pessoa, e pergunte quanto ela tem em dinheiro.\n",
        "\n",
        "* A pessoa pode fazer uma viagem se: tiver mais de 18 anos E tiver mais de R$ 2000,00\n",
        "\n",
        "* Na Saída informe se é Verdeiro ou falso A possibilidade da Viagem. Exemplo: Vai viajar? - O retorno será True or False"
      ],
      "metadata": {
        "id": "gx_l2c025hNr"
      }
    },
    {
      "cell_type": "code",
      "source": [
        "idade2 = int(input('Quantos anos você tem? '))\n",
        "saldo = float(input('quantos reais você tem? '))\n",
        "maioridade = (idade2>=18)\n",
        "conta = (saldo>=2000)\n",
        "v7 = (conta and maioridade)\n",
        "print(f'vai viajar {v7}')\n"
      ],
      "metadata": {
        "id": "__EsZX4nDrF8"
      },
      "execution_count": null,
      "outputs": []
    },
    {
      "cell_type": "code",
      "source": [
        "\n"
      ],
      "metadata": {
        "id": "B4N4iNBlGJV8"
      },
      "execution_count": null,
      "outputs": []
    },
    {
      "cell_type": "markdown",
      "source": [
        "5- Solicite a idade da pessoa, e pergunte quanto ela tem em dinheiro e agora pergunte se ela vai viajar com os pais.\n",
        "\n",
        "* A pessoa pode fazer uma viagem se: (tiver mais de 18 anos E tiver mais de R$ 2000,00) ou se ela estiver com os pais.\n",
        "\n",
        "* Na Saída informe se é Verdeiro ou falso A possibilidade da Viagem. Exemplo: Vai viajar? - O retorno será True or False\n"
      ],
      "metadata": {
        "id": "e4zE89vu6AsO"
      }
    },
    {
      "cell_type": "code",
      "source": [
        "idade3 = int(input('quantos anos você tem?'))\n",
        "saldo2 = int(input('Quantos reais você tem'))\n",
        "pais = int(input('Você vai viajar com os Pais?\\n 1 para sim\\n 2 para não '))\n",
        "v8 = (idade3 and saldo2)\n",
        "v9 = (v8 and pais == 1)\n",
        "print(f'Vai viajar? {v9}')"
      ],
      "metadata": {
        "id": "FIj0zQUXDrif",
        "colab": {
          "base_uri": "https://localhost:8080/"
        },
        "outputId": "bd2d8ecc-7352-4f4d-f46c-9336c1577364"
      },
      "execution_count": null,
      "outputs": [
        {
          "output_type": "stream",
          "name": "stdout",
          "text": [
            "quantos anos você tem?13\n",
            "Quantos reais você tem2000\n",
            "Você vai viajar com os Pais?\n",
            " 1 para sim\n",
            " 2 para não 2\n",
            "Vai viajar? False\n"
          ]
        }
      ]
    },
    {
      "cell_type": "markdown",
      "source": [
        "6-Solicite três notas ao usuário e calcule a média e também solicite quantos dias letivos tem no ano e quantas faltas ele teve.\n",
        "\n",
        "* Calcule a média (somando as notas e dividindo por 3)\n",
        "* Calcule o percential de faltas (Divida a quantidade de faltas pela quantidade de dias letivos e multiplique por 100).\n",
        "* Depois subtraia de 100 esse valor e obterá o percentual de presença\n",
        "\n",
        "Exemplo se o aluno faltou 5 vezes em 100 dias letivos:\n",
        "\n",
        "faltas = 5/100, obterá: 0,05, que multiplicando por 100 será 5.\n",
        "result = faltas * 100. Ou seja, 5% de faltas.\n",
        "\n",
        "percentual = 100 - result. Valor obtido nesse caso será 95, que representa 95% de presença.\n",
        "\n",
        "\n",
        "* Para passar de ano, o aluno precisa de nota maior ou igual a 6 E presença maior ou igual a 75%\n",
        "\n",
        "* Na saída informe se é verdadeiro ou falso que ele irá passar de ano. Exemplo: Vai passar de Ano? Ira ter como resposta: True or False\n"
      ],
      "metadata": {
        "id": "YwP3YbWN41v1"
      }
    },
    {
      "cell_type": "code",
      "source": [
        "v13 = int(input('Quantos dias letivos você teve? '))\n",
        "v14 = int(input('quantas faltas você teve? '))\n",
        "v10 = int(input('nota 1? '))\n",
        "v11 = int(input('nota 2? '))\n",
        "v12 = int(input('nota 3? '))\n",
        "notamedia = (v10 + v11 + v12) / 3\n",
        "presença =  100 - ((v14 / v13)* 100)\n",
        "notapassa = (notamedia >= 6)\n",
        "presençapassa = (presença >= 75)\n",
        "verificacao2 = (notapassa and presençapassa)\n",
        "print (f'Você passou? {verificacao2}')"
      ],
      "metadata": {
        "id": "BjfMiCxRDr-h",
        "colab": {
          "base_uri": "https://localhost:8080/"
        },
        "outputId": "f6a457c6-1b73-4310-9d56-890e87488823"
      },
      "execution_count": 6,
      "outputs": [
        {
          "output_type": "stream",
          "name": "stdout",
          "text": [
            "Quantos dias letivos você teve? 100\n",
            "quantas faltas você teve? 10\n",
            "nota 1? 10\n",
            "nota 2? 10\n",
            "nota 3? 10\n",
            "Você passou? True\n"
          ]
        }
      ]
    },
    {
      "cell_type": "markdown",
      "source": [
        "7) Peça para o usuário digitar um valor informe se ele é par ou impar"
      ],
      "metadata": {
        "id": "IOXzmuPgzrUz"
      }
    },
    {
      "cell_type": "code",
      "source": [
        "v15 = float(input('Me diga um número'))\n",
        "v16 = v15 % 2\n",
        "v17 = (v16 == 1)\n",
        "print (f'seu numero é impar:{v17}')"
      ],
      "metadata": {
        "id": "W3s-pjSNzuxj",
        "colab": {
          "base_uri": "https://localhost:8080/"
        },
        "outputId": "c2a92228-94a0-4759-9b34-360deb9ad5ec"
      },
      "execution_count": 9,
      "outputs": [
        {
          "output_type": "stream",
          "name": "stdout",
          "text": [
            "Me diga um número12\n",
            "seu numero é impar:False\n"
          ]
        }
      ]
    },
    {
      "cell_type": "markdown",
      "source": [
        "8 ) Faça um algoritmo em Python que receba o valor de três lados de um possível triângulo (l1, l2 e l3) e utilize operadores relacionais e lógicos para:\n",
        "\n",
        "1.\tVerificar se os valores informados podem formar um triângulo.\n",
        "2.\tIdentificar se o triângulo é equilátero, escaleno ou isósceles.\n",
        "\n",
        "O programa deve atribuir True ou False para cada uma das seguintes variáveis:\n",
        "* triangulo: True se os lados puderem formar um triângulo.\n",
        "* equilatero: True se o triângulo for equilátero.\n",
        "* escaleno: True se o triângulo for escaleno.\n",
        "* isosceles: True se o triângulo for isósceles.\n",
        "\n",
        "Dica: Um triângulo só é possível se a soma de dois lados for maior que o terceiro, para os três pares possíveis.\n",
        "\n",
        "Lógica necessária\n",
        "\n",
        "Para ser um triângulo:\n",
        "\n",
        "* l1+l2>l3 e\n",
        "* l1+l3>l2l e\n",
        "* l2+l3>l1\n",
        "\n",
        "Tipos de triângulo:\n",
        "* Equilátero: todos os lados iguais.\n",
        "* Escaleno: todos os lados diferentes.\n",
        "* Isósceles: dois lados iguais."
      ],
      "metadata": {
        "id": "fDwuVk9JzvWr"
      }
    },
    {
      "cell_type": "code",
      "source": [
        "l1 = float(input('fale o lado 1 '))\n",
        "l2 = float(input('fale o lado 2 '))\n",
        "l3 = float(input('fale o lado 3 '))\n",
        "triangulo = (l1 + l2 > l3) and (l1 + l3 > l2) and (l3 + l2 > l1)\n",
        "equi = (l1 == l2) and (l1 == l3)\n",
        "esca = (l1 != l2 != l3 and triangulo)\n",
        "iso = (l1 == l2 != l3) and  (l2 == l3 != l1) and  (l1 == l3 != l2) and triangulo\n",
        "print (f'é um triangulo? {triangulo}')\n",
        "print (f'é um triangulo equilatero? {equi}')\n",
        "print (f'é um triangulo escaleno? {esca}')\n",
        "print (f'é um triangulo isoceles? {iso}')"
      ],
      "metadata": {
        "id": "K57FadkSz1DL",
        "colab": {
          "base_uri": "https://localhost:8080/"
        },
        "outputId": "ee003654-364b-4d0d-deae-c23c36678f02"
      },
      "execution_count": 1,
      "outputs": [
        {
          "output_type": "stream",
          "name": "stdout",
          "text": [
            "fale o lado 1 2\n",
            "fale o lado 2 2\n",
            "fale o lado 3 2\n",
            "é um triangulo? True\n",
            "é um triangulo equilatero? True\n",
            "é um triangulo escaleno? False\n",
            "é um triangulo isoceles? False\n"
          ]
        }
      ]
    },
    {
      "cell_type": "markdown",
      "source": [
        "9) Faça um programa que solicite peso e altura, informe seu IMC. Ao final informe se ele está, abaixo do peso,peso ideal ou acima do peso. fórmula do IMC: (peso/altura^2), siga a tabela abaixo:\n",
        "\n",
        "IMC \t                    \n",
        "* Menos do que 18,5 ==> Abaixo do Peso\n",
        "* Entre 18,5 e 24,9  ==>Peso normal\n",
        "* Entre 25 e 29,9  ==> \tSobrepeso\n",
        "* Entre 30 e 34,9  ==> \tObesidade grau 1\n",
        "* Entre 35 e 39,9  ==> \tObesidade grau 2\n",
        "* Mais do que 40 \t  ==> Obesidade grau 3"
      ],
      "metadata": {
        "id": "ymt6F0gqz2E7"
      }
    },
    {
      "cell_type": "code",
      "source": [
        "v18 = float(input('Qual seu peso?' ))\n",
        "v19 = float(input('qual é sua altura'))\n",
        "v20 = (v18 / v19 ** 2)\n",
        "\n",
        "abaixo = v20 <= 18.5\n",
        "normal = (18.5 <=  v20) and (v20  <= 24.9)\n",
        "sobrepeso = (25 <=  v20) and (v20 <= 29.9)\n",
        "obesidade1 = (30 <= v20) and (v20 <= 34.9)\n",
        "obesidade2 = (35 <=  v20) and (v20 <= 39.9)\n",
        "obesidade3 = 40 <= v20\n",
        "print (f'Você está abaixo do peso? {abaixo}')\n",
        "print (f'Você está com o peso normal? {normal}')\n",
        "print (f'Você está sobre peso? {sobrepeso}')\n",
        "print (f'Você está como obesidade nivel 1? {obesidade1}')\n",
        "print (f'Você está com obesidade nivel 2? {obesidade2}')\n",
        "print (f'Você está com obesidade nivel 3? {obesidade3}')"
      ],
      "metadata": {
        "id": "RDkZYCOVz50b",
        "colab": {
          "base_uri": "https://localhost:8080/"
        },
        "outputId": "6ff7fa25-0009-4abf-a6b4-7dd4559ca632"
      },
      "execution_count": 18,
      "outputs": [
        {
          "output_type": "stream",
          "name": "stdout",
          "text": [
            "Qual seu peso?57\n",
            "qual é sua altura1.66\n",
            "Você está abaixo do peso? False\n",
            "Você está com o peso normal? True\n",
            "Você está sobre peso? False\n",
            "Você está como obesidade nivel 1? False\n",
            "Você está com obesidade nivel 2? False\n",
            "Você está com obesidade nivel 3? False\n"
          ]
        }
      ]
    },
    {
      "cell_type": "markdown",
      "source": [
        "10) Faça um programa que solicite altura e idade do usuário, informe se ele pode ou nao competir. Regras: Para competir no campeonato de vôlei o usuário de ter pelo menos 1.75 de altura e 18 anos."
      ],
      "metadata": {
        "id": "29dWEOf3z9hj"
      }
    },
    {
      "cell_type": "code",
      "source": [
        "v21 = float(input('qual sau altura? '))\n",
        "v22 = float(input('qual sua idade? '))\n",
        "idadecerta = (v21 >= 18)\n",
        "alturacerta = (v22 >= 1.75)\n",
        "fim = (alturacerta and idadecerta)\n",
        "print (f'Você pode competir? {fim}')"
      ],
      "metadata": {
        "id": "GmDaYiUvz_TZ",
        "colab": {
          "base_uri": "https://localhost:8080/"
        },
        "outputId": "d2d82644-adac-475c-b002-8d920cedb9f0"
      },
      "execution_count": 19,
      "outputs": [
        {
          "output_type": "stream",
          "name": "stdout",
          "text": [
            "qual sau altura? 15\n",
            "qual sua idade? 1.66\n",
            "Você pode competir? False\n"
          ]
        }
      ]
    }
  ]
}