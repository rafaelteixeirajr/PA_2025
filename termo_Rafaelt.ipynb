{
  "nbformat": 4,
  "nbformat_minor": 0,
  "metadata": {
    "colab": {
      "provenance": [],
      "authorship_tag": "ABX9TyMNfkmrbJJMWHLiDGoJDzUb",
      "include_colab_link": true
    },
    "kernelspec": {
      "name": "python3",
      "display_name": "Python 3"
    },
    "language_info": {
      "name": "python"
    }
  },
  "cells": [
    {
      "cell_type": "markdown",
      "metadata": {
        "id": "view-in-github",
        "colab_type": "text"
      },
      "source": [
        "<a href=\"https://colab.research.google.com/github/rafaelteixeirajr/PA_2025/blob/main/termo_Rafaelt.ipynb\" target=\"_parent\"><img src=\"https://colab.research.google.com/assets/colab-badge.svg\" alt=\"Open In Colab\"/></a>"
      ]
    },
    {
      "cell_type": "markdown",
      "source": [
        "## Jogo Termo"
      ],
      "metadata": {
        "id": "6czjITWUOFcM"
      }
    },
    {
      "cell_type": "code",
      "execution_count": null,
      "metadata": {
        "id": "Q0hxVL2SODVN"
      },
      "outputs": [],
      "source": [
        "import random\n",
        "\n",
        "tentativas = 6\n",
        "\n",
        "palavras = ['pedro', 'alana', 'lucas', 'clara']\n",
        "\n",
        "palavra = random.choice(palavras)\n",
        "\n",
        "letras = []\n",
        "for letra in palavra:\n",
        "    letras.append(letra)\n",
        "\n",
        "qtd_letras = len(letras)\n",
        "\n",
        "print(f'Tente acertar o nome com {qtd_letras} letras!')\n",
        "\n",
        "while tentativas > 0:\n",
        "    chute = input(f'\\nVocê tem {tentativas} tentativas! Digite um nome com {qtd_letras} letras:').lower()\n",
        "    qtd_chute = len(chute)\n",
        "\n",
        "    while qtd_chute != qtd_letras:\n",
        "        chute = input(f'\\nVocê tem {tentativas} attempts. Digite um nome com {qtd_letras} letras:').lower()\n",
        "        qtd_chute = len(chute)\n",
        "\n",
        "    resultado = []\n",
        "\n",
        "    for e in range(qtd_letras):\n",
        "        if chute[e] == letras[e]:\n",
        "            resultado.append(chute[e].upper())\n",
        "        elif chute[e] in letras:\n",
        "            resultado.append(chute[e])\n",
        "        else:\n",
        "            resultado.append('_')\n",
        "\n",
        "    print('Resultado:', ''.join(resultado))\n",
        "\n",
        "    if chute == palavra:\n",
        "        print('Vitória! Você acertou!')\n",
        "        break\n",
        "\n",
        "    tentativas -= 1\n",
        "\n",
        "    if tentativas == 0:\n",
        "        print(f'Derrota! A palavra correta era {palavra}')"
      ]
    }
  ]
}