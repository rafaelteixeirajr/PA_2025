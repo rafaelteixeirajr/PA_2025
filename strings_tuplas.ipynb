{
  "nbformat": 4,
  "nbformat_minor": 0,
  "metadata": {
    "colab": {
      "provenance": [],
      "authorship_tag": "ABX9TyOyYPr+htvAXdEWJchRt/Vb",
      "include_colab_link": true
    },
    "kernelspec": {
      "name": "python3",
      "display_name": "Python 3"
    },
    "language_info": {
      "name": "python"
    }
  },
  "cells": [
    {
      "cell_type": "markdown",
      "metadata": {
        "id": "view-in-github",
        "colab_type": "text"
      },
      "source": [
        "<a href=\"https://colab.research.google.com/github/rafaelteixeirajr/PA_2025/blob/main/strings_tuplas.ipynb\" target=\"_parent\"><img src=\"https://colab.research.google.com/assets/colab-badge.svg\" alt=\"Open In Colab\"/></a>"
      ]
    },
    {
      "cell_type": "markdown",
      "source": [
        "# **Strings**"
      ],
      "metadata": {
        "id": "XukPqWny9IXT"
      }
    },
    {
      "cell_type": "code",
      "execution_count": null,
      "metadata": {
        "id": "Y1KpWcsW844S"
      },
      "outputs": [],
      "source": [
        "# 1 - Use o método len para imprimir o comprimento da string.\n",
        "x = \"Hello World\"\n",
        "print(len(x))"
      ]
    },
    {
      "cell_type": "code",
      "source": [
        "# 2 - Obtenha o primeiro caractere da string txt.\n",
        "txt = \"Hello World\"\n",
        "x = txt[0]\n",
        "print(x)"
      ],
      "metadata": {
        "id": "qJPwgBzy9Qc3"
      },
      "execution_count": null,
      "outputs": []
    },
    {
      "cell_type": "code",
      "source": [
        "# 3 - Obtenha os caracteres do índice 2 ao índice 4 ( llo).\n",
        "txt = \"Hello World\"\n",
        "txt[2:5]\n"
      ],
      "metadata": {
        "id": "BQRaDhJl9S0m"
      },
      "execution_count": null,
      "outputs": []
    },
    {
      "cell_type": "code",
      "source": [
        "# 4 - Converta o valor de txt para maiúsculas.\n",
        "txt = \"Hello World\"\n",
        "txt.upper()"
      ],
      "metadata": {
        "id": "4q0BDRS_9U85"
      },
      "execution_count": null,
      "outputs": []
    },
    {
      "cell_type": "code",
      "source": [
        "# 5 - Conte quantas vezes aparece a palavra \"de\" na string abaixo\n",
        "txt = \"Eu gosto de vijar, tomar vinho, de estudar estudar programação, de estudar Pyhon\"\n",
        "txt.count('de')"
      ],
      "metadata": {
        "id": "bhMtNPB-9Yh8"
      },
      "execution_count": null,
      "outputs": []
    },
    {
      "cell_type": "code",
      "source": [
        "# 6 - Separe a frase abaixo toda vez que encontrar um vírgula\n",
        "txt ='Eu gosto de viajar, tomar vinho, de estudar estudar programação, de estudar Python'\n",
        "txt = txt.split(',')\n",
        "print(txt)"
      ],
      "metadata": {
        "id": "2cWulU7m9an1"
      },
      "execution_count": null,
      "outputs": []
    },
    {
      "cell_type": "code",
      "source": [
        "#7 - Peça ao usuário uma frase e substitua todas as ocorrências de espaço por “#”.\n",
        "frase = str(input('Escreva uma frase para substituir os espaços! '))\n",
        "frase = frase.replace(' ', '#')\n",
        "print(f'Aqui esta sua frase:\\n{frase}')"
      ],
      "metadata": {
        "id": "ge2ZaQTa9d7r"
      },
      "execution_count": null,
      "outputs": []
    },
    {
      "cell_type": "code",
      "source": [
        "# 8 - Faça um programa que retorne True se duas strings lidas do teclado são palíndromas mútuas, ou seja, se uma é igual à outra quando lida de traz para frente ou False, se não forem.\n",
        "# Por exemplo: amor e roma\n",
        "p = str(input('Me fale uma palavra '))\n",
        "p1 = str(input('Me fale outra palavra '))\n",
        "p3 = p.lower()\n",
        "p4 = p1.lower()\n",
        "\n",
        "inp = p3[::-1]\n",
        "inp1 = p4[::-1]\n",
        "\n",
        "if (inp == p4) and (inp1 == p3):\n",
        "  print('sim')\n",
        "else: print('nao')\n",
        "\n",
        "p5 =p[::-1]\n",
        "if (p5 == inp):\n",
        "  print('sim')\n",
        "else: print('nao')\n",
        "\n",
        "p6 =p1[::-1]\n",
        "if (p6 == p1):\n",
        "  print('sim')\n",
        "else: print('nao')\n",
        "\n",
        "\n"
      ],
      "metadata": {
        "id": "YZOB_hPX9jic"
      },
      "execution_count": null,
      "outputs": []
    },
    {
      "cell_type": "code",
      "source": [
        "# 9- Faça um programa que leia o nome do usuário e mostre o nome de traz para frente, utilizando somente letras maiúsculas.\n",
        "nom = str(input('Digite seu nome para saber ele ao contrário e maiuscúlo (Apenas o primeiro) '))\n",
        "nom1 = nom.upper()\n",
        "nom2 = nom1[::-1]\n",
        "print(f'Seu nome ao contrário é:\\n{nom2}')"
      ],
      "metadata": {
        "id": "0ErYMPD-9nMh"
      },
      "execution_count": null,
      "outputs": []
    },
    {
      "cell_type": "markdown",
      "source": [
        "## **Listas e Tuplas**"
      ],
      "metadata": {
        "id": "H7pUOZqn9u6j"
      }
    },
    {
      "cell_type": "code",
      "source": [
        "# exercicio 1\n",
        "lista = ['Mauá', 'Ribeirão Pires', 'Santo André', 'Guarulhos', 'São Bernado']\n",
        "lista.append('São Caetano')\n",
        "print(lista)\n",
        "lista.remove(\"Ribeirão Pires\")\n",
        "print(lista)"
      ],
      "metadata": {
        "id": "lp3bR6Zg9znb"
      },
      "execution_count": null,
      "outputs": []
    },
    {
      "cell_type": "code",
      "source": [
        "# exercicio 2.\n",
        "c1 = 'azul', 'dourado', 'preto', 'branco'\n",
        "novac1 = c1 + (\"amarelo\", \"esmeralda\")\n",
        "print(novac1)\n"
      ],
      "metadata": {
        "id": "f7F4H-Be-Mlk"
      },
      "execution_count": null,
      "outputs": []
    },
    {
      "cell_type": "code",
      "source": [
        "# exercicio 3\n",
        "aluno = { \"nome\": \"Ana\",\n",
        "         \"idade\": 22,\n",
        "          \"curso\": \"Engenharia\"}\n",
        "\n",
        "aluno['idade'] = 27\n",
        "aluno['nota'] = 'R'\n",
        "print (aluno)"
      ],
      "metadata": {
        "id": "5QJ6npWI-Rqo"
      },
      "execution_count": null,
      "outputs": []
    },
    {
      "cell_type": "code",
      "source": [
        "#exercio 4\n",
        "carro = [\n",
        "       { 'nome':  'Corsa', 'preço': 20000 },\n",
        "    { 'nome':  'Gol', 'preço': 17000 },\n",
        "    {  'nome':  'Sandeiro', 'preço': 25000 }]\n",
        "\n",
        "carro.append({'nome':  'Santana', 'preço': 13000})\n",
        "carro[0][\"preço\"] = 25000\n",
        "print(carro)"
      ],
      "metadata": {
        "id": "RgvIelQb-iWN"
      },
      "execution_count": null,
      "outputs": []
    },
    {
      "cell_type": "code",
      "source": [
        "#exercicio 5\n",
        "idvei = 0\n",
        "nvei = ' '\n",
        "\n",
        "listnome = [('Rafael', 15), ('Cleiton', 35), ('Patrícia', 42), ('Paulo', 71)]\n",
        "\n",
        "if listnome[0][1] > idvei:\n",
        "  idvei = listnome[0][1]\n",
        "  nvei = listnome[0][0]\n",
        "if listnome[1][1] > idvei:\n",
        "  idvei = listnome[1][1]\n",
        "  nvei = listnome[1][1]\n",
        "if listnome[2][1] > idvei:\n",
        "  idvei = listnome[2][1]\n",
        "  nvei = listnome[2][0]\n",
        "if listnome[3][1] > idvei:\n",
        "  idvei = listnome[3][1]\n",
        "  nvei = listnome[3][0]\n",
        "  print(f'a pessoa mais velha é {nvei}, e a idade é {idvei}')\n",
        "\n",
        "média = ((listnome[0][1] + listnome[1][1] + listnome[2][1]  + listnome[3][1])/ 4)\n",
        "\n",
        "print(f'a média das idades é {média} anos')\n",
        "\n",
        "\n"
      ],
      "metadata": {
        "id": "pvIZ0gJb_SGN"
      },
      "execution_count": null,
      "outputs": []
    }
  ]
}